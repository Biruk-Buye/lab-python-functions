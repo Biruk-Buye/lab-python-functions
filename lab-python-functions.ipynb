{
 "cells": [
  {
   "cell_type": "markdown",
   "id": "25d7736c-ba17-4aff-b6bb-66eba20fbf4e",
   "metadata": {},
   "source": [
    "# Lab | Functions"
   ]
  },
  {
   "cell_type": "markdown",
   "id": "0c581062-8967-4d93-b06e-62833222f930",
   "metadata": {
    "tags": []
   },
   "source": [
    "## Exercise: Managing Customer Orders with Functions\n",
    "\n",
    "In the previous exercise, you improved the code for managing customer orders by using loops and flow control. Now, let's take it a step further and refactor the code by introducing functions.\n",
    "\n",
    "Follow the steps below to complete the exercise:\n",
    "\n",
    "1. Define a function named `initialize_inventory` that takes `products` as a parameter. Inside the function, implement the code for initializing the inventory dictionary using a loop and user input.\n",
    "\n",
    "2. Define a function named `get_customer_orders` that takes no parameters. Inside the function, implement the code for prompting the user to enter the product names using a loop. The function should return the `customer_orders` set.\n",
    "\n",
    "3. Define a function named `update_inventory` that takes `customer_orders` and `inventory` as parameters. Inside the function, implement the code for updating the inventory dictionary based on the customer orders.\n",
    "\n",
    "4. Define a function named `calculate_order_statistics` that takes `customer_orders` and `products` as parameters. Inside the function, implement the code for calculating the order statistics (total products ordered, and percentage of unique products ordered). The function should return these values.\n",
    "\n",
    "5. Define a function named `print_order_statistics` that takes `order_statistics` as a parameter. Inside the function, implement the code for printing the order statistics.\n",
    "\n",
    "6. Define a function named `print_updated_inventory` that takes `inventory` as a parameter. Inside the function, implement the code for printing the updated inventory.\n",
    "\n",
    "7. Call the functions in the appropriate sequence to execute the program and manage customer orders.\n",
    "\n",
    "Hints for functions:\n",
    "\n",
    "- Consider the input parameters required for each function and their return values.\n",
    "- Utilize function parameters and return values to transfer data between functions.\n",
    "- Test your functions individually to ensure they work correctly.\n",
    "\n",
    "\n"
   ]
  },
  {
   "cell_type": "code",
   "execution_count": 152,
   "id": "3a6259de-7de3-4104-92bf-c227db865887",
   "metadata": {},
   "outputs": [],
   "source": [
    "# 1.Define a list called products that contains the following items: \"t-shirt\", \"mug\", \"hat\", \"book\", \"keychain\".\n",
    "products = [\"t-shirt\", \"mug\", \"hat\", \"book\", \"keychain\"]"
   ]
  },
  {
   "cell_type": "code",
   "execution_count": 153,
   "id": "05bc5393-10d4-4336-8cae-8c2f999c952c",
   "metadata": {},
   "outputs": [],
   "source": [
    "# 2.Create an empty dictionary called inventory.\n",
    "inventory = {}"
   ]
  },
  {
   "cell_type": "code",
   "execution_count": 154,
   "id": "9b717a0b-ec1b-411f-9bc5-48d9e4a944e0",
   "metadata": {},
   "outputs": [
    {
     "name": "stdin",
     "output_type": "stream",
     "text": [
      "Please enter the quantitity of t-shirt 2\n",
      "Please enter the quantitity of mug 3\n",
      "Please enter the quantitity of hat 4\n",
      "Please enter the quantitity of book 5\n",
      "Please enter the quantitity of keychain 6\n"
     ]
    }
   ],
   "source": [
    "# Define a function named initialize_inventory that takes products as a parameter.\n",
    "# Inside the function, implement the code for initializing the inventory dictionary using a loop and user input.\n",
    "def initialize_inventory(products):\n",
    "    for product in products:\n",
    "        quantity= int(input(f\"Please enter the quantitity of {product}\"))\n",
    "        inventory[product]= quantity\n",
    "    return inventory\n",
    "\n",
    "inventory =initialize_inventory(products)"
   ]
  },
  {
   "cell_type": "code",
   "execution_count": 155,
   "id": "42b82725-3e18-4839-a840-498d9440ff53",
   "metadata": {},
   "outputs": [],
   "source": [
    "#4.Create an empty set called customer_orders.\n",
    "customer_orders = set()"
   ]
  },
  {
   "cell_type": "code",
   "execution_count": 156,
   "id": "bc1da6de-6826-4370-a3c1-5c2540f2f646",
   "metadata": {},
   "outputs": [
    {
     "name": "stdin",
     "output_type": "stream",
     "text": [
      "please enter the first product:  mug\n",
      "please enter the second product:  hat\n",
      "please enter the third product:  book\n"
     ]
    }
   ],
   "source": [
    "# Prompt the user to enter the name of a product that a customer wants to order.\n",
    "product_one = str(input(\"please enter the first product: \"))\n",
    "product_two = str(input(\"please enter the second product: \"))\n",
    "product_three = str(input(\"please enter the third product: \"))"
   ]
  },
  {
   "cell_type": "code",
   "execution_count": 157,
   "id": "bc966046-2576-492d-8df9-d94706dabb1b",
   "metadata": {},
   "outputs": [
    {
     "name": "stdout",
     "output_type": "stream",
     "text": [
      "{'book', 'hat', 'mug'}\n"
     ]
    }
   ],
   "source": [
    "customer_orders = {product_one, product_two, product_three}\n",
    "print(customer_orders)"
   ]
  },
  {
   "cell_type": "code",
   "execution_count": 158,
   "id": "252676c5-ca0c-4206-98f2-b5d5837e2f52",
   "metadata": {},
   "outputs": [],
   "source": [
    "#converting tuple to a list\n",
    "customer_orders = list()"
   ]
  },
  {
   "cell_type": "code",
   "execution_count": 159,
   "id": "8b664858-9b7f-46b1-acf4-49d4d48bce8a",
   "metadata": {},
   "outputs": [],
   "source": [
    "#Add the product name to the \"customer_orders\" set.\n",
    "customer_orders.append(\"trouser\")"
   ]
  },
  {
   "cell_type": "code",
   "execution_count": 160,
   "id": "fdf9625b-8f6c-49a3-b78a-60a0f6239424",
   "metadata": {},
   "outputs": [
    {
     "name": "stdout",
     "output_type": "stream",
     "text": [
      "['trouser']\n"
     ]
    }
   ],
   "source": [
    "print(customer_orders)"
   ]
  },
  {
   "cell_type": "code",
   "execution_count": 161,
   "id": "491061d8-0323-4f67-91a9-54f02d1cc02d",
   "metadata": {},
   "outputs": [],
   "source": [
    "# Define a function named get_customer_orders that takes no parameters.\n",
    "# Inside the function, implement the code for prompting the user to enter the product names using a loop.\n",
    "# The function should return the customer_orders set.\n",
    "\n",
    "def get_customer_orders():\n",
    "    while True:\n",
    "        choice = input(\"add a product please: \")\n",
    "        customer_orders.append(choice)\n",
    "        choice = input(\"Would you like to add another product? \")\n",
    "        if choice.casefold() == 'no':\n",
    "            break\n",
    "    return customer_orders"
   ]
  },
  {
   "cell_type": "code",
   "execution_count": 162,
   "id": "4ab9ffef-6fd4-4893-8e39-dacea64107c9",
   "metadata": {},
   "outputs": [
    {
     "name": "stdout",
     "output_type": "stream",
     "text": [
      "trouser\n"
     ]
    }
   ],
   "source": [
    "for element in customer_orders:\n",
    "    print(element)"
   ]
  },
  {
   "cell_type": "code",
   "execution_count": 205,
   "id": "7d810eae-3575-44d5-a7f8-796114fb53d0",
   "metadata": {},
   "outputs": [],
   "source": [
    "# Define a function named update_inventory that takes customer_orders and inventory as parameters.\n",
    "# Inside the function, implement the code for updating the inventory dictionary based on the customer orders.\n",
    "def update_inventory(customer_orders, inventory):\n",
    "    for product in customer_orders:\n",
    "        inventory[product] -= 1\n",
    "    return inventory"
   ]
  },
  {
   "cell_type": "code",
   "execution_count": 164,
   "id": "aa64fe1e-ee3b-4e31-b0ae-c32706e20eef",
   "metadata": {},
   "outputs": [],
   "source": [
    "# Define a function named calculate_order_statistics that takes customer_orders and products as parameters.\n",
    "# Inside the function, implement the code for calculating the order statistics (total products ordered, \n",
    "# and percentage of unique products ordered). The function should return these values.\n",
    "def calculate_order_statistics (customer_orders, products):\n",
    "    total_products_ordered= len(customer_orders)\n",
    "    percentage_of_unique_products_ordered= (len(customer_orders)/ len(products))*100\n",
    "    order_statistic= (total_products_ordered,percentage_of_unique_products_ordered)\n",
    "    return order_statistic\n",
    "    "
   ]
  },
  {
   "cell_type": "code",
   "execution_count": 165,
   "id": "965fdc3b-4831-4521-97db-9401fb22d2e5",
   "metadata": {},
   "outputs": [
    {
     "data": {
      "text/plain": [
       "(1, 20.0)"
      ]
     },
     "execution_count": 165,
     "metadata": {},
     "output_type": "execute_result"
    }
   ],
   "source": [
    "calculate_order_statistics(customer_orders, products)"
   ]
  },
  {
   "cell_type": "code",
   "execution_count": 166,
   "id": "b8404726-3df7-4c79-80e4-6e3c5b618b05",
   "metadata": {},
   "outputs": [
    {
     "name": "stdout",
     "output_type": "stream",
     "text": [
      "Total products ordered: 1\n",
      "Percentage of unique products ordered: 20.0%\n"
     ]
    }
   ],
   "source": [
    "#Define a function named print_order_statistics that takes order_statistics as a parameter.\n",
    "#Inside the function, implement the code for printing the order statistics.\n",
    "def print_order_statistics (order_statistics):\n",
    "    total_products_ordered, percentage_of_unique_products_ordered = order_statistics\n",
    "    print(f\"Total products ordered: {total_products_ordered}\")\n",
    "    print(f\"Percentage of unique products ordered: {percentage_of_unique_products_ordered}%\")\n",
    "\n",
    "order_statistics= calculate_order_statistics(customer_orders, products)\n",
    "print_order_statistics(order_statistics)"
   ]
  },
  {
   "cell_type": "code",
   "execution_count": 167,
   "id": "14e040d1-de79-4626-8b0e-1367b7eca07a",
   "metadata": {},
   "outputs": [],
   "source": [
    "#Define a function named print_updated_inventory that takes inventory as a parameter.\n",
    "#Inside the function, implement the code for printing the updated inventory.\n",
    "def print_updated_inventory(inventory):\n",
    "    print(f\"The updated inventory is: {inventory}\")"
   ]
  },
  {
   "cell_type": "code",
   "execution_count": 191,
   "id": "c3518ef9-49e7-4f0b-9e39-588f0b1fdcc1",
   "metadata": {},
   "outputs": [
    {
     "name": "stdin",
     "output_type": "stream",
     "text": [
      "Please enter the quantitity of t-shirt 2\n",
      "Please enter the quantitity of mug 3\n",
      "Please enter the quantitity of hat 4\n",
      "Please enter the quantitity of book 5\n",
      "Please enter the quantitity of keychain 6\n"
     ]
    },
    {
     "data": {
      "text/plain": [
       "{'t-shirt': 2, 'mug': 3, 'hat': 4, 'book': 5, 'keychain': 6}"
      ]
     },
     "execution_count": 191,
     "metadata": {},
     "output_type": "execute_result"
    }
   ],
   "source": [
    "#Call the functions in the appropriate sequence to execute the program and manage customer orders.\n",
    "initialize_inventory(inventory)"
   ]
  },
  {
   "cell_type": "code",
   "execution_count": 193,
   "id": "fc379013-68ba-4484-8d1b-2bb8ead5ff6e",
   "metadata": {},
   "outputs": [
    {
     "name": "stdin",
     "output_type": "stream",
     "text": [
      "add a product please:  lala\n",
      "Would you like to add another product?  no\n"
     ]
    },
    {
     "data": {
      "text/plain": [
       "['trouser', 'lala']"
      ]
     },
     "execution_count": 193,
     "metadata": {},
     "output_type": "execute_result"
    }
   ],
   "source": [
    "get_customer_orders()"
   ]
  },
  {
   "cell_type": "code",
   "execution_count": 203,
   "id": "7bbdd2b3-7573-40ba-8867-350bf8dbd6a2",
   "metadata": {},
   "outputs": [
    {
     "ename": "TypeError",
     "evalue": "unhashable type: 'list'",
     "output_type": "error",
     "traceback": [
      "\u001b[0;31m---------------------------------------------------------------------------\u001b[0m",
      "\u001b[0;31mTypeError\u001b[0m                                 Traceback (most recent call last)",
      "Cell \u001b[0;32mIn[203], line 1\u001b[0m\n\u001b[0;32m----> 1\u001b[0m update_inventory(customer_orders, inventory)\n",
      "Cell \u001b[0;32mIn[201], line 5\u001b[0m, in \u001b[0;36mupdate_inventory\u001b[0;34m(customer_orders, inventory)\u001b[0m\n\u001b[1;32m      3\u001b[0m \u001b[38;5;28;01mdef\u001b[39;00m \u001b[38;5;21mupdate_inventory\u001b[39m(customer_orders, inventory):\n\u001b[1;32m      4\u001b[0m     \u001b[38;5;28;01mfor\u001b[39;00m product \u001b[38;5;129;01min\u001b[39;00m customer_orders:\n\u001b[0;32m----> 5\u001b[0m         inventory[products] \u001b[38;5;241m-\u001b[39m\u001b[38;5;241m=\u001b[39m \u001b[38;5;241m1\u001b[39m\n\u001b[1;32m      6\u001b[0m     \u001b[38;5;28;01mreturn\u001b[39;00m inventory\n",
      "\u001b[0;31mTypeError\u001b[0m: unhashable type: 'list'"
     ]
    }
   ],
   "source": [
    "update_inventory(customer_orders, inventory)"
   ]
  },
  {
   "cell_type": "code",
   "execution_count": 209,
   "id": "c0add00f-a214-4c0b-86ac-e3347510ca9f",
   "metadata": {},
   "outputs": [
    {
     "data": {
      "text/plain": [
       "(2, 40.0)"
      ]
     },
     "execution_count": 209,
     "metadata": {},
     "output_type": "execute_result"
    }
   ],
   "source": [
    "calculate_order_statistics (customer_orders, products)"
   ]
  },
  {
   "cell_type": "code",
   "execution_count": 213,
   "id": "2ac9d81e-bf5d-4559-8b61-4590eb376964",
   "metadata": {},
   "outputs": [
    {
     "name": "stdout",
     "output_type": "stream",
     "text": [
      "Total products ordered: 1\n",
      "Percentage of unique products ordered: 20.0%\n"
     ]
    }
   ],
   "source": [
    "print_order_statistics (order_statistics)"
   ]
  },
  {
   "cell_type": "code",
   "execution_count": 215,
   "id": "cbd01997-4714-441a-9a6e-7a28f752e227",
   "metadata": {},
   "outputs": [
    {
     "name": "stdout",
     "output_type": "stream",
     "text": [
      "The updated inventory is: {'t-shirt': 2, 'mug': 3, 'hat': 4, 'book': 5, 'keychain': 6}\n"
     ]
    }
   ],
   "source": [
    "print_updated_inventory(inventory)"
   ]
  },
  {
   "cell_type": "code",
   "execution_count": null,
   "id": "54f758b8-bf37-40c5-bd2c-7db921cb56dc",
   "metadata": {},
   "outputs": [],
   "source": []
  }
 ],
 "metadata": {
  "kernelspec": {
   "display_name": "Python 3 (ipykernel)",
   "language": "python",
   "name": "python3"
  },
  "language_info": {
   "codemirror_mode": {
    "name": "ipython",
    "version": 3
   },
   "file_extension": ".py",
   "mimetype": "text/x-python",
   "name": "python",
   "nbconvert_exporter": "python",
   "pygments_lexer": "ipython3",
   "version": "3.12.4"
  }
 },
 "nbformat": 4,
 "nbformat_minor": 5
}
